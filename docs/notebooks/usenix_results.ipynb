{
 "cells": [
  {
   "cell_type": "code",
   "execution_count": 1,
   "metadata": {},
   "outputs": [],
   "source": [
    "import numpy as np\n",
    "import pandas as pd\n",
    "import matplotlib.pyplot as plt\n",
    "import pickle\n",
    "import torch\n",
    "import matplotlib\n",
    "import matplotlib.pyplot as plt\n",
    "from sklearn.manifold import TSNE"
   ]
  },
  {
   "cell_type": "markdown",
   "metadata": {},
   "source": [
    "# Figure 1"
   ]
  },
  {
   "cell_type": "markdown",
   "metadata": {},
   "source": [
    "## RotMNIST"
   ]
  },
  {
   "cell_type": "code",
   "execution_count": null,
   "metadata": {},
   "outputs": [],
   "source": [
    "x=['ERM', 'Rand', 'MatchDG', 'CSD', 'IRM', 'Perf']\n",
    "\n",
    "acc_train=[99.9, 100.0, 99.9, 99.9, 100.0, 99.9]\n",
    "acc_train_err=[0.02, 0.01, 0.01, 0.01, 0.00, 0.01]\n",
    "\n",
    "acc_test=[93.8, 95.9, 96.4, 95.1, 94.3, 97.3]\n",
    "acc_test_err=[0.57, 0.08, 0.16, 0.55, 0.25, 0.01]\n",
    "\n",
    "mia=[67.7, 77.0, 72.3, 64.9, 69.7, 59.6]\n",
    "mia_err=[0.40, 0.24, 0.53, 0.92, 0.48, 0.52]\n",
    "\n",
    "entropy=[63.9, 78.1, 65.2, 65.0, 65.9, 57.6]\n",
    "entropy_err=[1.98, 0.40, 0.73, 1.34, 1.41, 0.29]\n",
    "\n",
    "loss=[66.4, 77.1, 68.8, 67.5, 67.8, 60.2]\n",
    "loss_err=[1.74, 0.87, 1.37, 1.06, 1.09, 0.06]\n",
    "\n",
    "rank=[71.2, 85.1, 74.9, 70.4, 71.8, 18.2]\n",
    "rank_err=[1.73, 0.56, 1.07, 2.01, 2.02, 0.85 ]"
   ]
  },
  {
   "cell_type": "code",
   "execution_count": null,
   "metadata": {},
   "outputs": [],
   "source": [
    "for idx in range(3):\n",
    "    \n",
    "    matplotlib.rcParams.update({'errorbar.capsize': 2})\n",
    "    fig, ax = plt.subplots(1, 1, figsize=(10, 8))\n",
    "    fontsize=30\n",
    "    fontsize_lgd= fontsize/1.2\n",
    "    ax.tick_params(labelsize=fontsize)\n",
    "    ax.set_xticklabels(x, rotation=25)\n",
    "    \n",
    "    if idx == 0:\n",
    "        ax.errorbar(x, acc_train, yerr=acc_train_err, label='Train Accuracy', fmt='o--')\n",
    "        ax.errorbar(x, acc_test, yerr=acc_test_err, label='Test Accuracy', fmt='o--')\n",
    "#         ax.set_xlabel('Models', fontsize=fontsize)\n",
    "        ax.set_ylabel('OOD Accuracy of ML Model', fontsize=fontsize)\n",
    "        ax.legend(fontsize=fontsize_lgd)\n",
    "    \n",
    "    if idx == 1:\n",
    "        ax.errorbar(x, mia, yerr=mia_err, label='Classifier Attack', color='blue', fmt='o--')        \n",
    "        ax.errorbar(x, entropy, yerr=entropy_err, label='Entropy Attack', color='red', fmt='o--')\n",
    "        ax.errorbar(x, loss, yerr=loss_err, label='Loss Attack', color='orange', fmt='o--')\n",
    "        ax.set_ylabel('MI Attack Accuracy', fontsize=fontsize)\n",
    "        ax.legend(fontsize=fontsize_lgd)\n",
    "\n",
    "    if idx == 2:\n",
    "        ax.errorbar(x, rank, yerr=rank_err, fmt='o--', color='brown')\n",
    "#         ax.set_xlabel('Models', fontsize=fontsize)\n",
    "        ax.set_ylabel('Mean Rank of Perfect Match', fontsize=fontsize)\n",
    "\n",
    "    plt.tight_layout()\n",
    "    plt.savefig('../../results/plots/privacy_rot_mnist_' + str(idx) + '.pdf', dpi=600)"
   ]
  },
  {
   "cell_type": "markdown",
   "metadata": {},
   "source": [
    "# Fashion MNIST"
   ]
  },
  {
   "cell_type": "code",
   "execution_count": null,
   "metadata": {},
   "outputs": [],
   "source": [
    "x=['ERM', 'Rand', 'MatchDG', 'CSD', 'IRM', 'Perf']\n",
    "\n",
    "acc_train=[99.1, 99.2, 99.4, 96.9, 99.3, 99.2]\n",
    "acc_train_err=[0.05, 0.10, 0.15, 0.08, 0.03, 0.07]\n",
    "\n",
    "acc_test=[78.3, 79.9, 82.5, 81.4, 78.9, 85.6]\n",
    "acc_test_err=[0.77, 0.51, 0.21, 0.59, 0.33, 0.90]\n",
    "\n",
    "mia=[72.3, 71.6,  71.0, 71.8, 72.9, 74.4]\n",
    "mia_err=[0.20, 1.05, 0.16, 0.46, 0.41, 0.67]\n",
    "\n",
    "entropy=[56.4, 56.1, 54.6, 54.6, 56.4, 53.7]\n",
    "entropy_err=[0.45, 0.28, 0.34, 0.43, 0.10, 0.51]\n",
    "\n",
    "loss= [61.3, 62.8, 60.6, 59.8, 61.0, 60.8 ]\n",
    "loss_err= [0.78, 1.54, 0.27, 0.07, 0.22, 0.24 ]\n",
    "\n",
    "rank=[281.3, 348.9, 294.0, 272.8, 305.7, 202.0]\n",
    "rank_err=[4.07, 11.51, 9.11, 3.42, 4.10, 15.6 ]"
   ]
  },
  {
   "cell_type": "code",
   "execution_count": null,
   "metadata": {},
   "outputs": [],
   "source": [
    "for idx in range(3):\n",
    "    \n",
    "    matplotlib.rcParams.update({'errorbar.capsize': 2})\n",
    "    fig, ax = plt.subplots(1, 1, figsize=(10, 8))\n",
    "    fontsize=30\n",
    "    fontsize_lgd= fontsize/1.2\n",
    "    ax.tick_params(labelsize=fontsize)\n",
    "    ax.set_xticklabels(x, rotation=25)\n",
    "    \n",
    "    if idx == 0:\n",
    "        ax.errorbar(x, acc_train, yerr=acc_train_err, label='Train Accuracy', fmt='o--')\n",
    "        ax.errorbar(x, acc_test, yerr=acc_test_err, label='Test Accuracy', fmt='o--')\n",
    "#         ax.set_xlabel('Models', fontsize=fontsize)\n",
    "        ax.set_ylabel('OOD Accuracy of ML Model', fontsize=fontsize)\n",
    "        ax.legend(fontsize=fontsize_lgd)\n",
    "    \n",
    "    if idx == 1:\n",
    "        ax.errorbar(x, mia, yerr=mia_err, label='Classifier Attack', color='blue', fmt='o--')        \n",
    "        ax.errorbar(x, entropy, yerr=entropy_err, label='Entropy Attack', color='red', fmt='o--')\n",
    "        ax.errorbar(x, loss, yerr=loss_err, label='Loss Attack', color='orange', fmt='o--')\n",
    "        ax.set_ylabel('MI Attack Accuracy', fontsize=fontsize)\n",
    "        ax.legend(fontsize=fontsize_lgd)\n",
    "\n",
    "    if idx == 2:\n",
    "        ax.errorbar(x, rank, yerr=rank_err, fmt='o--', color='brown')\n",
    "#         ax.set_xlabel('Models', fontsize=fontsize)\n",
    "        ax.set_ylabel('Mean Rank of Perfect Match', fontsize=fontsize)\n",
    "\n",
    "    plt.tight_layout()\n",
    "    plt.savefig('../../results/plots/privacy_fashion_mnist_' + str(idx) + '.pdf', dpi=600)"
   ]
  },
  {
   "cell_type": "markdown",
   "metadata": {},
   "source": [
    "## ChestXRay"
   ]
  },
  {
   "cell_type": "code",
   "execution_count": null,
   "metadata": {},
   "outputs": [],
   "source": [
    "x=['ERM', 'Rand', 'MatchDG', 'CSD', 'IRM', 'Hybrid']\n",
    "\n",
    "acc_train=[83.4, 82.1, 80.5, 81.5, 83.6, 80.1]\n",
    "acc_train_err=[1.39, 0.81, 0.67, 1.09, 1.08, 0.76]\n",
    "\n",
    "acc_test=[55.2, 57.4, 58.4, 60.5, 55.6, 62.6]\n",
    "acc_test_err=[1.89, 1.01, 0.36, 0.47, 2.33, 0.83]\n",
    "\n",
    "mia=[75.9, 72.6, 65.3, 73.9, 75.6, 62.4]\n",
    "mia_err=[0.05, 0.09, 0.04, 0.14, 0.10, 0.08]\n",
    "\n",
    "entropy=[76.5, 56.8, 53.3, 68.6, 75.7, 51.3]\n",
    "entropy_err=[1.37, 2.81, 1.42, 1.26, 0.32, 1.04]\n",
    "\n",
    "loss=[78.1, 56.5, 53.1, 69.7, 77.7, 52.0]\n",
    "loss_err=[1.41, 1.82, 1.42, 1.80, 0.54, 1.10]\n",
    "\n",
    "rank=[455.1, 447.4, 445.3, 449.9, 456.2, 440.8]\n",
    "rank_err=[1.54, 2.05, 1.38, 0.30, 2.02, 1.51]"
   ]
  },
  {
   "cell_type": "code",
   "execution_count": null,
   "metadata": {},
   "outputs": [],
   "source": [
    "for idx in range(3):\n",
    "    \n",
    "    matplotlib.rcParams.update({'errorbar.capsize': 2})\n",
    "    fig, ax = plt.subplots(1, 1, figsize=(10, 8))\n",
    "    fontsize=30\n",
    "    fontsize_lgd= fontsize/1.2\n",
    "    ax.tick_params(labelsize=fontsize)\n",
    "    ax.set_xticklabels(x, rotation=25)\n",
    "    \n",
    "    if idx == 0:\n",
    "        ax.errorbar(x, acc_train, yerr=acc_train_err, label='Train Accuracy', fmt='o--')\n",
    "        ax.errorbar(x, acc_test, yerr=acc_test_err, label='Test Accuracy', fmt='o--')\n",
    "#         ax.set_xlabel('Models', fontsize=fontsize)\n",
    "        ax.set_ylabel('OOD Accuracy of ML Model', fontsize=fontsize)\n",
    "        ax.legend(fontsize=fontsize_lgd)\n",
    "    \n",
    "    if idx == 1:\n",
    "        ax.errorbar(x, mia, yerr=mia_err, label='Classifier Attack', color='blue', fmt='o--')        \n",
    "        ax.errorbar(x, entropy, yerr=entropy_err, label='Entropy Attack', color='red', fmt='o--')\n",
    "        ax.errorbar(x, loss, yerr=loss_err, label='Loss Attack', color='orange', fmt='o--')\n",
    "        ax.set_ylabel('MI Attack Accuracy', fontsize=fontsize)\n",
    "        ax.legend(fontsize=fontsize_lgd)\n",
    "\n",
    "    if idx == 2:\n",
    "        ax.errorbar(x, rank, yerr=rank_err, fmt='o--', color='brown')\n",
    "#         ax.set_xlabel('Models', fontsize=fontsize)\n",
    "        ax.set_ylabel('Mean Rank of Perfect Match', fontsize=fontsize)\n",
    "\n",
    "    plt.tight_layout()\n",
    "    plt.savefig('../../results/plots/privacy_chestxray_' + str(idx) + '.pdf', dpi=600)"
   ]
  },
  {
   "cell_type": "code",
   "execution_count": null,
   "metadata": {},
   "outputs": [],
   "source": []
  },
  {
   "cell_type": "markdown",
   "metadata": {},
   "source": [
    "# Table 2"
   ]
  },
  {
   "cell_type": "markdown",
   "metadata": {},
   "source": [
    "## RotMNIST"
   ]
  },
  {
   "cell_type": "code",
   "execution_count": null,
   "metadata": {},
   "outputs": [],
   "source": [
    "x=['ERM', 'Rand', 'MatchDG', 'CSD', 'IRM', 'Perf']\n",
    "att=[27.6, 20.4, 19.3, 25.0, 26.6, 16.6]\n",
    "att_err=[0.84, 0.46, 0.62, 0.40, 0.71, 0.55]"
   ]
  },
  {
   "cell_type": "markdown",
   "metadata": {},
   "source": [
    "## Fashion MNIST"
   ]
  },
  {
   "cell_type": "code",
   "execution_count": null,
   "metadata": {},
   "outputs": [],
   "source": [
    "x=['ERM', 'Rand', 'MatchDG', 'CSD', 'IRM', 'Perf']\n",
    "att=[]\n",
    "att_err=[]"
   ]
  },
  {
   "cell_type": "markdown",
   "metadata": {},
   "source": [
    "## ChestXRay"
   ]
  },
  {
   "cell_type": "code",
   "execution_count": null,
   "metadata": {},
   "outputs": [],
   "source": [
    "x=['ERM', 'Rand', 'MatchDG', 'CSD', 'IRM', 'Hybrid']\n",
    "att=[61.8, 58.4, 57.9, 67.8, 63.4, 57.1]\n",
    "att_err=[1.02, 0.58, 0.70, 3.05, 2.28, 0.21]"
   ]
  },
  {
   "cell_type": "markdown",
   "metadata": {},
   "source": [
    "# Table 3"
   ]
  },
  {
   "cell_type": "code",
   "execution_count": null,
   "metadata": {},
   "outputs": [],
   "source": [
    "train_acc=[100.0, 99.9, 100.0, 100.0, 99.7, 97.7]\n",
    "train_acc_err=[0.0, 0.02, 0.01, 0.0, 0.09, 0.34]"
   ]
  },
  {
   "cell_type": "markdown",
   "metadata": {},
   "source": [
    "# Test Domain 70 percent"
   ]
  },
  {
   "cell_type": "code",
   "execution_count": null,
   "metadata": {},
   "outputs": [],
   "source": [
    "x=['ERM', 'Rand', 'MatchDG', 'CSD', 'IRM', 'Perf']\n",
    "acc=[96.5, 96.8, 97.5, 97.2, 95.9, 96.4]\n",
    "acc_err=[0.13, 0.18, 0.09, 0.02, 0.21, 0.30]\n",
    "\n",
    "att=[98.5, 83.0, 99.7, 95.4, 99.3, 70.2]\n",
    "att_err=[0.35, 1.96, 0.09, 0.15, 0.10, 0.09]"
   ]
  },
  {
   "cell_type": "markdown",
   "metadata": {},
   "source": [
    "# Test Domain 70 percent: Color Flip"
   ]
  },
  {
   "cell_type": "code",
   "execution_count": null,
   "metadata": {},
   "outputs": [],
   "source": [
    "x=['ERM', 'Rand', 'MatchDG', 'CSD', 'IRM', 'Perf']\n",
    "acc=[28.4, 37.6, 28.8, 42.9, 31.9, 94.9]\n",
    "acc_err=[0.76, 3.93, 1.27, 3.46, 0.38, 0.46]\n",
    "\n",
    "att=[87.7, 63.5, 95.5, 82.5, 96.3, 70.2]\n",
    "att_err=[2.50,  5.65, 2.13, 0.99, 0.43, 0.08]"
   ]
  },
  {
   "cell_type": "markdown",
   "metadata": {},
   "source": [
    "# Test Domain 0 percent"
   ]
  },
  {
   "cell_type": "code",
   "execution_count": null,
   "metadata": {},
   "outputs": [],
   "source": [
    "x=['ERM', 'Rand', 'MatchDG', 'CSD', 'IRM', 'Perf']\n",
    "acc=[88.8, 91.5, 92.1, 91.1, 89.1, 95.5]\n",
    "acc_err=[0.27, 0.72, 0.46, 0.02, 0.83, 0.36]\n",
    "\n",
    "att=[]\n",
    "att_err=[]"
   ]
  },
  {
   "cell_type": "code",
   "execution_count": null,
   "metadata": {},
   "outputs": [],
   "source": []
  },
  {
   "cell_type": "markdown",
   "metadata": {},
   "source": [
    "# DP ERM: Rotated MNIST"
   ]
  },
  {
   "cell_type": "code",
   "execution_count": null,
   "metadata": {},
   "outputs": [],
   "source": []
  },
  {
   "cell_type": "code",
   "execution_count": null,
   "metadata": {},
   "outputs": [],
   "source": [
    "x=['2', '5', '10', '50', '100', '500']\n",
    "dp_erm= [26.9, 33.5, 45.6, 59.6, 63.8, 73.4]\n",
    "dp_erm_std= [1.30, 3.81, 1.15, 2.22, 3.49, 0.29]\n",
    "dp_perf= [22.7, 32.2, 39.5, 58.7, 66.5, 81.4]\n",
    "dp_perf_std= [2.55, 2.89, 2.15, 2.28, 1.86, 1.17]\n",
    "\n",
    "plt.xlabel('Epsilon')\n",
    "plt.ylabel('OOD Accuracy')\n",
    "plt.title('Training with differentially noise')\n",
    "plt.errorbar(x, dp_erm, yerr=dp_erm_std, label='DP-ERM')\n",
    "plt.errorbar(x, dp_perf, yerr=dp_perf_std, label='DP-Perf')\n",
    "plt.legend()"
   ]
  },
  {
   "cell_type": "markdown",
   "metadata": {},
   "source": [
    "## DP Analysis: ERM vs Perf 50th Epoch Acc"
   ]
  },
  {
   "cell_type": "code",
   "execution_count": null,
   "metadata": {},
   "outputs": [],
   "source": [
    "f1= '../../erm_dp.txt'\n",
    "f2= '../../perf_dp.txt'\n",
    "\n",
    "f= open(f1)\n",
    "erm_data= f.readlines()\n",
    "\n",
    "f= open(f2)\n",
    "perf_data= f.readlines()"
   ]
  },
  {
   "cell_type": "code",
   "execution_count": null,
   "metadata": {},
   "outputs": [],
   "source": [
    "flag=0\n",
    "for line in erm_data:\n",
    "    \n",
    "    if flag==2:\n",
    "        print(line)\n",
    "        flag=0\n",
    "        \n",
    "    if flag==1:\n",
    "        print(line)\n",
    "        flag+= 1        \n",
    "    \n",
    "    if 'Done Training for epoch:  45' in line:\n",
    "        print(line)\n",
    "        flag+=1"
   ]
  },
  {
   "cell_type": "markdown",
   "metadata": {},
   "source": []
  },
  {
   "cell_type": "code",
   "execution_count": null,
   "metadata": {},
   "outputs": [],
   "source": [
    "flag=0\n",
    "for line in perf_data:\n",
    "    \n",
    "    if flag==2:\n",
    "        print(line)\n",
    "        flag=0\n",
    "        \n",
    "    if flag==1:\n",
    "        print(line)\n",
    "        flag+= 1        \n",
    "    \n",
    "    if 'Done Training for epoch:  45' in line:\n",
    "        print(line)\n",
    "        flag+=1"
   ]
  },
  {
   "cell_type": "markdown",
   "metadata": {},
   "source": [
    "## Attribute Attack"
   ]
  },
  {
   "cell_type": "code",
   "execution_count": null,
   "metadata": {},
   "outputs": [],
   "source": []
  },
  {
   "cell_type": "code",
   "execution_count": 3,
   "metadata": {},
   "outputs": [
    {
     "name": "stderr",
     "output_type": "stream",
     "text": [
      "/home/t-dimaha/RobustDG/robustdg/matchdg-env/lib/python3.7/site-packages/ipykernel_launcher.py:9: UserWarning: FixedFormatter should only be used together with FixedLocator\n",
      "  if __name__ == '__main__':\n",
      "/home/t-dimaha/RobustDG/robustdg/matchdg-env/lib/python3.7/site-packages/ipykernel_launcher.py:20: UserWarning: marker is redundantly defined by the 'marker' keyword argument and the fmt string \"o--\" (-> marker='o'). The keyword argument will take precedence.\n",
      "/home/t-dimaha/RobustDG/robustdg/matchdg-env/lib/python3.7/site-packages/ipykernel_launcher.py:21: UserWarning: marker is redundantly defined by the 'marker' keyword argument and the fmt string \"o--\" (-> marker='o'). The keyword argument will take precedence.\n",
      "/home/t-dimaha/RobustDG/robustdg/matchdg-env/lib/python3.7/site-packages/ipykernel_launcher.py:22: UserWarning: marker is redundantly defined by the 'marker' keyword argument and the fmt string \"o--\" (-> marker='o'). The keyword argument will take precedence.\n"
     ]
    },
    {
     "data": {
      "image/png": "[encoded data removed]",
      "text/plain": [
       "<Figure size 864x576 with 1 Axes>"
      ]
     },
     "metadata": {
      "needs_background": "light"
     },
     "output_type": "display_data"
    }
   ],
   "source": [
    "x=['ERM', 'Rand', 'MatchDG', 'CSD', 'IRM', 'Perf']\n",
    "matplotlib.rcParams.update({'errorbar.capsize': 2})\n",
    "fig, ax = plt.subplots(1, 1, figsize=(12, 8))\n",
    "fontsize=33\n",
    "fontsize_lgd= fontsize/1.2\n",
    "marker_list = ['o', '^', '*']\n",
    "\n",
    "ax.tick_params(labelsize=fontsize)\n",
    "ax.set_xticklabels(x, rotation=25)\n",
    "ax.set_title('Attribute Attack on Colored Rotated MNIST', fontsize= fontsize)\n",
    "ax.set_ylabel('Metric Score', fontsize=fontsize)\n",
    "\n",
    "ood_p = [95.2, 96.8, 95.5, 96.6, 95.4, 95.7]\n",
    "ood_p_err = [0.17, 0.06, 0.28, 0.48, 0.21, 0.19]\n",
    "acc_p= [25.3, 28.9, 25.5, 42.9, 25.4, 93.4]\n",
    "acc_p_err= [0.17, 1.81, 0.28, 2.30, 0.21, 0.35]\n",
    "mi= [97.7 , 83.0, 95.3, 92.4, 97.9, 69.9]\n",
    "mi_err= [0.41, 3.09, 3.80, 1.30, 0.30, 0.03]\n",
    "\n",
    "ax.errorbar(x, ood_p, yerr=ood_p_err, marker= marker_list[0], markersize= fontsize_lgd, linewidth=4, fmt='o--', label='OOD Acc')\n",
    "ax.errorbar(x, acc_p, yerr=acc_p_err, marker= marker_list[1], markersize= fontsize_lgd, linewidth=4, fmt='o--', label='OOD Acc Permute')\n",
    "ax.errorbar(x, mi, yerr=mi_err, marker= marker_list[2], markersize= fontsize_lgd, linewidth=4, fmt='o--', label='AI Attack')\n",
    "ax.legend(fontsize= fontsize_lgd)\n",
    "\n",
    "plt.tight_layout()\n",
    "plt.savefig('../../results/ai_attack_cmnist.pdf', dpi=600)"
   ]
  },
  {
   "cell_type": "markdown",
   "metadata": {},
   "source": [
    "# DP Analysis Rotated MNIST"
   ]
  },
  {
   "cell_type": "code",
   "execution_count": null,
   "metadata": {},
   "outputs": [],
   "source": [
    "x=['1.0', '2.0', '5.0', '10.0', 'ꝏ']\n",
    "matplotlib.rcParams.update({'errorbar.capsize': 2})\n",
    "fig, ax = plt.subplots(1, 2, figsize=(24, 8))\n",
    "fontsize=40\n",
    "fontsize_lgd= fontsize/1.2\n",
    "marker_list = ['o', '^']\n",
    "\n",
    "#OOD Accuracy\n",
    "ax[0].tick_params(labelsize=fontsize)\n",
    "ax[0].set_xticklabels(x, rotation=25)\n",
    "ax[0].set_ylabel('OOD Accuracy', fontsize=fontsize)\n",
    "ax[0].set_xlabel('ε', fontsize=fontsize)\n",
    "ax[0].set(ylim=(30, 100))\n",
    "\n",
    "erm_acc= [33.7, 38.4, 40.3, 41.2, 90.9]\n",
    "erm_std= [1.15, 2.45, 2.38, 2.73, 0.24]\n",
    "perf_acc= [36.6, 44.1, 48.7, 50.4, 95.5]\n",
    "perf_std= [0.69, 1.236, 3.75, 2.78, 0.26]\n",
    "\n",
    "ax[0].errorbar(x, erm_acc, yerr=erm_std, marker= marker_list[0], markersize= fontsize_lgd, linewidth=4, fmt='o--', label='ERM')\n",
    "ax[0].errorbar(x, perf_acc, yerr=perf_std, marker= marker_list[1], markersize= fontsize_lgd, linewidth=4, fmt='o--', label='Perf Match')\n",
    "\n",
    "#MI Attack\n",
    "ax[1].tick_params(labelsize=fontsize)\n",
    "ax[1].set_xticklabels(x, rotation=25)\n",
    "ax[1].set_ylabel('MI Attack Accuracy', fontsize=fontsize)\n",
    "ax[1].set_xlabel('DP-Epsilon', fontsize=fontsize)\n",
    "ax[1].set(ylim=(50, 100))\n",
    "\n",
    "erm_acc=  [60.5, 65.4, 66.2, 67.1, 71.9]\n",
    "erm_std=  [0.92, 1.03, 0.81, 0.41, 0.29]\n",
    "perf_acc= [60.2, 63.8, 65.3, 65.4, 64.9]\n",
    "perf_std= [1.07, 0.42, 0.38, 0.50, 0.72]\n",
    "\n",
    "ax[1].errorbar(x, erm_acc, yerr=erm_std, marker= marker_list[0], markersize= fontsize_lgd, linewidth=4, fmt='o--', label='ERM')\n",
    "ax[1].errorbar(x, perf_acc, yerr=perf_std, marker= marker_list[1], markersize= fontsize_lgd, linewidth=4, fmt='o--', label='Perf Match')\n",
    "\n",
    "\n",
    "lines, labels = fig.axes[-1].get_legend_handles_labels()    \n",
    "lgd= fig.legend(lines, labels, loc=\"lower center\", bbox_to_anchor=(0.5, -0.15), fontsize=fontsize, ncol=3)\n",
    "    \n",
    "plt.tight_layout()\n",
    "plt.savefig('../../results/dp_rmnist.pdf', bbox_extra_artists=(lgd,), bbox_inches='tight',  dpi=600)"
   ]
  },
  {
   "cell_type": "markdown",
   "metadata": {},
   "source": [
    "# DP Analysis Fashion MNIST"
   ]
  },
  {
   "cell_type": "code",
   "execution_count": null,
   "metadata": {},
   "outputs": [],
   "source": [
    "x=['1.0', '2.0', '5.0', '10.0', 'ꝏ']\n",
    "matplotlib.rcParams.update({'errorbar.capsize': 2})\n",
    "fig, ax = plt.subplots(1, 2, figsize=(24, 8))\n",
    "fontsize=40\n",
    "fontsize_lgd= fontsize/1.2\n",
    "marker_list = ['o', '^']\n",
    "\n",
    "#OOD Accuracy\n",
    "ax[0].tick_params(labelsize=fontsize)\n",
    "ax[0].set_xticklabels(x, rotation=25)\n",
    "ax[0].set_ylabel('OOD Accuracy', fontsize=fontsize)\n",
    "ax[0].set_xlabel('ε', fontsize=fontsize)\n",
    "ax[0].set(ylim=(40, 100))\n",
    "\n",
    "erm_acc= [46.6, 46.7, 46.3, 45.6, 57.6]\n",
    "erm_std= [1.70, 2.03, 1.99, 2.19, 1.53]\n",
    "perf_acc= [48.9, 50.9, 53.5, 54.1, 67.6]\n",
    "perf_std= [1.19, 1.01, 0.95, 0.89, 1.63]\n",
    "\n",
    "ax[0].errorbar(x, erm_acc, yerr=erm_std, marker= marker_list[0], markersize= fontsize_lgd, linewidth=4, fmt='o--', label='ERM')\n",
    "ax[0].errorbar(x, perf_acc, yerr=perf_std, marker= marker_list[1], markersize= fontsize_lgd, linewidth=4, fmt='o--', label='Perf Match')\n",
    "\n",
    "#MI Attack\n",
    "ax[1].tick_params(labelsize=fontsize)\n",
    "ax[1].set_xticklabels(x, rotation=25)\n",
    "ax[1].set_ylabel('MI Attack Accuracy', fontsize=fontsize)\n",
    "ax[1].set_xlabel('ε', fontsize=fontsize)\n",
    "ax[1].set(ylim=(50, 100))\n",
    "\n",
    "erm_acc=  [62.9, 63.9, 65.6, 64.9, 80.5]\n",
    "erm_std=  [0.75, 0.68, 0.44, 0.51, 0.31]\n",
    "perf_acc= [60.7, 62.7, 62.6, 62.6, 71.0]\n",
    "perf_std= [0.13, 0.25, 0.18, 0.31, 0.60]\n",
    "\n",
    "ax[1].errorbar(x, erm_acc, yerr=erm_std, marker= marker_list[0], markersize= fontsize_lgd, linewidth=4, fmt='o--', label='ERM')\n",
    "ax[1].errorbar(x, perf_acc, yerr=perf_std, marker= marker_list[1], markersize= fontsize_lgd, linewidth=4, fmt='o--', label='Perf Match')\n",
    "\n",
    "\n",
    "lines, labels = fig.axes[-1].get_legend_handles_labels()    \n",
    "lgd= fig.legend(lines, labels, loc=\"lower center\", bbox_to_anchor=(0.5, -0.15), fontsize=fontsize, ncol=3)\n",
    "    \n",
    "plt.tight_layout()\n",
    "plt.savefig('../../results/dp_fmnist.pdf', bbox_extra_artists=(lgd,), bbox_inches='tight',  dpi=600)"
   ]
  },
  {
   "cell_type": "code",
   "execution_count": null,
   "metadata": {},
   "outputs": [],
   "source": []
  },
  {
   "cell_type": "code",
   "execution_count": null,
   "metadata": {},
   "outputs": [],
   "source": []
  },
  {
   "cell_type": "markdown",
   "metadata": {},
   "source": [
    "# Counterexample for generalization gap and privacy risk"
   ]
  },
  {
   "cell_type": "code",
   "execution_count": null,
   "metadata": {},
   "outputs": [],
   "source": [
    "matplotlib.rcParams.update({'errorbar.capsize': 2})\n",
    "fig, ax = plt.subplots(1, 2, figsize=(30, 8))\n",
    "fontsize=40\n",
    "fontsize_lgd= fontsize/1.2\n",
    "marker_list = ['o', '^']\n",
    "color_list= ['tab:blue', 'tab:red']\n",
    "\n",
    "#OOD Accuracy\n",
    "ax[0].tick_params(labelsize=fontsize)\n",
    "# ax[0].set_xticklabels(x, rotation=25)\n",
    "ax[0].set_ylabel('Cross Entropy Loss: -log(p)', fontsize=fontsize)\n",
    "ax[0].set_xlabel('Classification Proability: p', fontsize=fontsize)\n",
    "ax[0].set_title('Method A', fontsize= fontsize)\n",
    "\n",
    "p_train= np.random.normal(0.85, 0.05, 100)\n",
    "p_test= np.random.normal(0.75, 0.05, 70)\n",
    "p_test_inc= np.random.normal(0.35, 0.05, 30)\n",
    "\n",
    "ax[0].scatter( p_train, -np.log(p_train), c= color_list[0], s=200*7, label='Train', alpha=0.3, edgecolors='none' )\n",
    "ax[0].scatter( p_test, -np.log(p_test), c= color_list[1], s=200*5, label='Test', alpha=0.3, edgecolors='none' )\n",
    "ax[0].scatter( p_test_inc, -np.log(p_test_inc), c=color_list[1], s=200*7, alpha=0.3, edgecolors='none' )\n",
    "ax[0].axhline(-np.log(0.85), ls='--', color='tab:purple', label='Attack Threshold', linewidth=4)\n",
    "ax[0].axvline(0.5, ls='--', color='tab:orange', label='Classification Threshold', linewidth=4)\n",
    "# ax[0].legend(fontsize= fontsize)\n",
    "\n",
    "#MI Attack\n",
    "ax[1].tick_params(labelsize=fontsize)\n",
    "# ax[1].set_xticklabels(x, rotation=25)\n",
    "ax[1].set_ylabel('Cross Entropy Loss: -log(p)', fontsize=fontsize)\n",
    "ax[1].set_xlabel('Classification Proability: p', fontsize=fontsize)\n",
    "ax[1].set_title('Method B', fontsize= fontsize)\n",
    "\n",
    "p_train= np.random.normal(0.85, 0.05, 100)\n",
    "p_test= np.random.normal(0.60, 0.015, 90)\n",
    "p_test_inc= np.random.normal(0.35, 0.05, 10)\n",
    "\n",
    "ax[1].scatter( p_train, -np.log(p_train), c= color_list[0], s=200*7, label='Train', alpha=0.3, edgecolors='none' )\n",
    "ax[1].scatter( p_test, -np.log(p_test), c= color_list[1], s=200*6, label='Test', alpha=0.3, edgecolors='none' )\n",
    "ax[1].scatter( p_test_inc, -np.log(p_test_inc), c=color_list[1], s=200*7, alpha=0.3, edgecolors='none' )\n",
    "ax[1].axhline(-np.log(0.85), ls='--', color='tab:purple', label='Attack Threshold', linewidth=4)\n",
    "ax[1].axvline(0.5, ls='--', color='tab:orange', label='Classification Threshold', linewidth=4)\n",
    "# ax[1].legend(fontsize= fontsize)\n",
    "\n",
    "lines, labels = fig.axes[-1].get_legend_handles_labels()    \n",
    "lgd= fig.legend(lines, labels, loc=\"lower center\", bbox_to_anchor=(0.5, -0.30), fontsize=fontsize, ncol=2)\n",
    "    \n",
    "plt.tight_layout()\n",
    "plt.savefig('../../results/counterexample.pdf', bbox_extra_artists=(lgd,), bbox_inches='tight',  dpi=600)"
   ]
  },
  {
   "cell_type": "code",
   "execution_count": null,
   "metadata": {},
   "outputs": [],
   "source": [
    "p_train= np.random.normal(0.85, 0.05, 100)\n",
    "p_test_a= np.random.normal(0.60, 0.02, 90)\n",
    "p_test_a_inc= np.random.normal(0.35, 0.05, 10)"
   ]
  },
  {
   "cell_type": "code",
   "execution_count": null,
   "metadata": {},
   "outputs": [],
   "source": [
    "plt.scatter(p_train, -np.log(p_train), label= 'Train')\n",
    "plt.scatter(p_test_a, -np.log(p_test_a), label= 'Test Correct')\n",
    "plt.scatter(p_test_a_inc, -np.log(p_test_a_inc), label= 'Test Incorrect')\n",
    "plt.legend()"
   ]
  },
  {
   "cell_type": "code",
   "execution_count": null,
   "metadata": {},
   "outputs": [],
   "source": [
    "p_train= np.random.normal(0.85, 0.05, 100)\n",
    "p_test_b= np.random.normal(0.60, 0.02, 90)\n",
    "p_test_b_inc= np.random.normal(0.35, 0.05, 10)"
   ]
  },
  {
   "cell_type": "code",
   "execution_count": null,
   "metadata": {},
   "outputs": [],
   "source": [
    "plt.scatter(p_train, -np.log(p_train), label= 'Train')\n",
    "plt.scatter(p_test_b, -np.log(p_test_b), label= 'Test Correct')\n",
    "plt.scatter(p_test_b_inc, -np.log(p_test_b_inc), label= 'Test Incorrect')\n",
    "plt.legend()"
   ]
  },
  {
   "cell_type": "code",
   "execution_count": null,
   "metadata": {},
   "outputs": [],
   "source": []
  },
  {
   "cell_type": "code",
   "execution_count": null,
   "metadata": {},
   "outputs": [],
   "source": []
  },
  {
   "cell_type": "code",
   "execution_count": null,
   "metadata": {},
   "outputs": [],
   "source": []
  }
 ],
 "metadata": {
  "kernelspec": {
   "display_name": "matchdg-env",
   "language": "python",
   "name": "matchdg-env"
  },
  "language_info": {
   "codemirror_mode": {
    "name": "ipython",
    "version": 3
   },
   "file_extension": ".py",
   "mimetype": "text/x-python",
   "name": "python",
   "nbconvert_exporter": "python",
   "pygments_lexer": "ipython3",
   "version": "3.7.9"
  }
 },
 "nbformat": 4,
 "nbformat_minor": 4
}
